{
  "nbformat": 4,
  "nbformat_minor": 0,
  "metadata": {
    "kernelspec": {
      "display_name": "Python 3",
      "language": "python",
      "name": "python3"
    },
    "language_info": {
      "codemirror_mode": {
        "name": "ipython",
        "version": 3
      },
      "file_extension": ".py",
      "mimetype": "text/x-python",
      "name": "python",
      "nbconvert_exporter": "python",
      "pygments_lexer": "ipython3",
      "version": "3.7.4"
    },
    "colab": {
      "name": "opencv.ipynb",
      "provenance": [],
      "collapsed_sections": [],
      "include_colab_link": true
    }
  },
  "cells": [
    {
      "cell_type": "markdown",
      "metadata": {
        "id": "view-in-github",
        "colab_type": "text"
      },
      "source": [
        "<a href=\"https://colab.research.google.com/github/kathir100694/Opencv_public/blob/master/opencv.ipynb\" target=\"_parent\"><img src=\"https://colab.research.google.com/assets/colab-badge.svg\" alt=\"Open In Colab\"/></a>"
      ]
    },
    {
      "cell_type": "markdown",
      "metadata": {
        "id": "HLuFuWaW0mkP",
        "colab_type": "text"
      },
      "source": [
        "Read an image"
      ]
    },
    {
      "cell_type": "code",
      "metadata": {
        "id": "kfPl5D2W0mkQ",
        "colab_type": "code",
        "colab": {}
      },
      "source": [
        "import numpy as np\n",
        "import cv2\n",
        "# Load an color image in grayscale\n",
        "img = cv2.imread('profilepic.jpg',0)"
      ],
      "execution_count": null,
      "outputs": []
    },
    {
      "cell_type": "markdown",
      "metadata": {
        "id": "B2OhCDX80mkT",
        "colab_type": "text"
      },
      "source": [
        "Display an image"
      ]
    },
    {
      "cell_type": "code",
      "metadata": {
        "id": "wti-I8Yd0mkT",
        "colab_type": "code",
        "colab": {}
      },
      "source": [
        "cv2.imshow('image',img)\n",
        "cv2.waitKey(0)\n",
        "cv2.destroyAllWindows()"
      ],
      "execution_count": null,
      "outputs": []
    },
    {
      "cell_type": "code",
      "metadata": {
        "id": "PpBjcfbA0mkV",
        "colab_type": "code",
        "colab": {}
      },
      "source": [
        "cv2.namedWindow('image', cv2.WINDOW_NORMAL)\n",
        "cv2.imshow('image',img)\n",
        "cv2.waitKey(0)\n",
        "cv2.destroyAllWindows()"
      ],
      "execution_count": null,
      "outputs": []
    },
    {
      "cell_type": "markdown",
      "metadata": {
        "id": "B33h5E6W0mkX",
        "colab_type": "text"
      },
      "source": [
        "Write an image"
      ]
    },
    {
      "cell_type": "code",
      "metadata": {
        "id": "WgBcGtgR0mkY",
        "colab_type": "code",
        "colab": {}
      },
      "source": [
        "cv2.imwrite('messigray.png',img)"
      ],
      "execution_count": null,
      "outputs": []
    },
    {
      "cell_type": "markdown",
      "metadata": {
        "id": "8IYCgEnw0mka",
        "colab_type": "text"
      },
      "source": [
        "Example"
      ]
    },
    {
      "cell_type": "code",
      "metadata": {
        "id": "5APi4ofM0mka",
        "colab_type": "code",
        "colab": {}
      },
      "source": [
        "import numpy as np\n",
        "import cv2\n",
        "img = cv2.imread('messi5.jpg',0)\n",
        "cv2.imshow('image',img)\n",
        "k = cv2.waitKey(0)\n",
        "if k == 27: # wait for ESC key to exit\n",
        "    cv2.destroyAllWindows()\n",
        "elif k == ord('s'): # wait for 's' key to save and exit\n",
        "    cv2.imwrite('messigray.png',img)\n",
        "    cv2.destroyAllWindows()\n"
      ],
      "execution_count": null,
      "outputs": []
    },
    {
      "cell_type": "markdown",
      "metadata": {
        "id": "xKZAVNPW0mkc",
        "colab_type": "text"
      },
      "source": [
        "Using Matplotlib\n"
      ]
    },
    {
      "cell_type": "code",
      "metadata": {
        "id": "0iZtgiye0mkc",
        "colab_type": "code",
        "colab": {}
      },
      "source": [
        "import numpy as np\n",
        "import cv2\n",
        "from matplotlib import pyplot as plt\n",
        "img = cv2.imread('messi5.jpg',0)\n",
        "plt.imshow(img, cmap = 'gray', interpolation = 'bicubic')\n",
        "plt.xticks([]), plt.yticks([]) # to hide tick values on X and Y axis\n",
        "plt.show()"
      ],
      "execution_count": null,
      "outputs": []
    },
    {
      "cell_type": "markdown",
      "metadata": {
        "id": "G5hynX8r0mke",
        "colab_type": "text"
      },
      "source": [
        "Capture Video from Camera\n",
        "\n"
      ]
    },
    {
      "cell_type": "code",
      "metadata": {
        "id": "jZfUJrch0mkf",
        "colab_type": "code",
        "colab": {}
      },
      "source": [
        "import numpy as np\n",
        "import cv2\n",
        "\n",
        "cap = cv2.VideoCapture(0)\n",
        "\n",
        "while(True):\n",
        "    # Capture frame-by-frame\n",
        "    ret, frame = cap.read()\n",
        "    \n",
        "    # Our operations on the frame come here\n",
        "    gray = cv2.cvtColor(frame, cv2.COLOR_BGR2GRAY)\n",
        "    \n",
        "    # Display the resulting frame\n",
        "    cv2.imshow('frame',gray)\n",
        "    if cv2.waitKey(1) & 0xFF == ord('q'):\n",
        "        break\n",
        "        \n",
        "# When everything done, release the capture\n",
        "cap.release()\n",
        "cv2.destroyAllWindows()"
      ],
      "execution_count": null,
      "outputs": []
    },
    {
      "cell_type": "markdown",
      "metadata": {
        "id": "xVze2KG50mkh",
        "colab_type": "text"
      },
      "source": [
        "Saving a Video"
      ]
    },
    {
      "cell_type": "code",
      "metadata": {
        "id": "D1nC6d3h0mkh",
        "colab_type": "code",
        "colab": {}
      },
      "source": [
        "import numpy as np \n",
        "import cv2\n",
        "\n",
        "cap = cv2.VideoCapture(0)\n",
        "\n",
        "# Define the codec and create VideoWriter object \n",
        "fourcc = cv2.VideoWriter_fourcc(*'XVID') \n",
        "out = cv2.VideoWriter('output.avi',fourcc, 20.0, (640,480))\n",
        "\n",
        "while(cap.isOpened()): \n",
        "    ret, frame = cap.read() \n",
        "    \n",
        "    if ret==True: \n",
        "        frame = cv2.flip(frame,0)\n",
        "        # write the flipped frame out.write(frame)\n",
        "        cv2.imshow('frame',frame) \n",
        "        \n",
        "        if cv2.waitKey(1) & 0xFF == ord('q'): \n",
        "            break \n",
        "    else: \n",
        "        break\n",
        "\n",
        "# Release everything if job is finished \n",
        "cap.release() \n",
        "out.release() \n",
        "cv2.destroyAllWindows()"
      ],
      "execution_count": null,
      "outputs": []
    },
    {
      "cell_type": "markdown",
      "metadata": {
        "id": "_RmW0lZC0mkj",
        "colab_type": "text"
      },
      "source": [
        "Drawing Functions in OpenCV\n"
      ]
    },
    {
      "cell_type": "markdown",
      "metadata": {
        "id": "xMfPVtc60mkj",
        "colab_type": "text"
      },
      "source": [
        "Drawing Line"
      ]
    },
    {
      "cell_type": "code",
      "metadata": {
        "id": "qETmmyZQ0mkj",
        "colab_type": "code",
        "colab": {}
      },
      "source": [
        "import numpy as np \n",
        "import cv2\n",
        "\n",
        "# Create a black image \n",
        "img = np.zeros((512,512,3), np.uint8)\n",
        "\n",
        "# Draw a diagonal blue line with thickness of 5 px \n",
        "img = cv2.line(img,(0,0),(511,511),(255,0,0),5)"
      ],
      "execution_count": null,
      "outputs": []
    },
    {
      "cell_type": "markdown",
      "metadata": {
        "id": "yYvK1vea0mkl",
        "colab_type": "text"
      },
      "source": [
        "Drawing Rectangle\n"
      ]
    },
    {
      "cell_type": "code",
      "metadata": {
        "id": "ja5l_chv0mkm",
        "colab_type": "code",
        "colab": {}
      },
      "source": [
        "img = cv2.rectangle(img,(384,0),(510,128),(0,255,0),3)"
      ],
      "execution_count": null,
      "outputs": []
    },
    {
      "cell_type": "markdown",
      "metadata": {
        "id": "tHmzl4Tb0mko",
        "colab_type": "text"
      },
      "source": [
        "Drawing Circle"
      ]
    },
    {
      "cell_type": "code",
      "metadata": {
        "id": "vEwfR2E_0mko",
        "colab_type": "code",
        "colab": {}
      },
      "source": [
        "img = cv2.circle(img,(447,63), 63, (0,0,255), -1)"
      ],
      "execution_count": null,
      "outputs": []
    },
    {
      "cell_type": "markdown",
      "metadata": {
        "id": "IpWUq_aC0mkr",
        "colab_type": "text"
      },
      "source": [
        "Drawing Ellipse"
      ]
    },
    {
      "cell_type": "code",
      "metadata": {
        "id": "4B19_p9f0mkr",
        "colab_type": "code",
        "colab": {}
      },
      "source": [
        "img = cv2.ellipse(img,(256,256),(100,50),0,0,180,255,-1)"
      ],
      "execution_count": null,
      "outputs": []
    },
    {
      "cell_type": "markdown",
      "metadata": {
        "id": "FsGMr7H80mkt",
        "colab_type": "text"
      },
      "source": [
        "Drawing Polygon"
      ]
    },
    {
      "cell_type": "code",
      "metadata": {
        "id": "6hkfADzm0mkt",
        "colab_type": "code",
        "colab": {}
      },
      "source": [
        "pts = np.array([[10,5],[20,30],[70,20],[50,10]], np.int32) \n",
        "pts = pts.reshape((-1,1,2)) \n",
        "img = cv2.polylines(img,[pts],True,(0,255,255))"
      ],
      "execution_count": null,
      "outputs": []
    },
    {
      "cell_type": "markdown",
      "metadata": {
        "id": "0z_xBpPj0mkv",
        "colab_type": "text"
      },
      "source": [
        "Adding Text to Images:"
      ]
    },
    {
      "cell_type": "code",
      "metadata": {
        "id": "ihceyvic0mkw",
        "colab_type": "code",
        "colab": {}
      },
      "source": [
        "font = cv2.FONT_HERSHEY_SIMPLEX \n",
        "cv2.putText(img,'OpenCV',(10,500), font, 4,(255,255,255),2,cv2.LINE_AA)"
      ],
      "execution_count": null,
      "outputs": []
    },
    {
      "cell_type": "markdown",
      "metadata": {
        "id": "K71sns1y0mkx",
        "colab_type": "text"
      },
      "source": [
        "Mouse as a Paint-Brush"
      ]
    },
    {
      "cell_type": "markdown",
      "metadata": {
        "id": "U7pT-xYr0mkx",
        "colab_type": "text"
      },
      "source": [
        "Mouse events"
      ]
    },
    {
      "cell_type": "code",
      "metadata": {
        "id": "I80XzdLb0mky",
        "colab_type": "code",
        "colab": {},
        "outputId": "e9be0120-bdba-481f-dc78-c85358ccca26"
      },
      "source": [
        "import cv2 \n",
        "events = [i for i in dir(cv2) if 'EVENT' in i] \n",
        "print (events)\n"
      ],
      "execution_count": null,
      "outputs": [
        {
          "output_type": "stream",
          "text": [
            "['EVENT_FLAG_ALTKEY', 'EVENT_FLAG_CTRLKEY', 'EVENT_FLAG_LBUTTON', 'EVENT_FLAG_MBUTTON', 'EVENT_FLAG_RBUTTON', 'EVENT_FLAG_SHIFTKEY', 'EVENT_LBUTTONDBLCLK', 'EVENT_LBUTTONDOWN', 'EVENT_LBUTTONUP', 'EVENT_MBUTTONDBLCLK', 'EVENT_MBUTTONDOWN', 'EVENT_MBUTTONUP', 'EVENT_MOUSEHWHEEL', 'EVENT_MOUSEMOVE', 'EVENT_MOUSEWHEEL', 'EVENT_RBUTTONDBLCLK', 'EVENT_RBUTTONDOWN', 'EVENT_RBUTTONUP']\n"
          ],
          "name": "stdout"
        }
      ]
    },
    {
      "cell_type": "markdown",
      "metadata": {
        "id": "738KRMpY0mk1",
        "colab_type": "text"
      },
      "source": [
        "Simple Demo"
      ]
    },
    {
      "cell_type": "code",
      "metadata": {
        "id": "S8-7HOnL0mk1",
        "colab_type": "code",
        "colab": {}
      },
      "source": [
        "import cv2 \n",
        "import numpy as np\n",
        "\n",
        "# mouse callback function \n",
        "def draw_circle(event,x,y,flags,param): \n",
        "    if event == cv2.EVENT_LBUTTONDBLCLK: \n",
        "        cv2.circle(img,(x,y),100,(255,0,0),-1)\n",
        "        \n",
        "# Create a black image, a window and bind the function to window \n",
        "img = np.zeros((512,512,3), np.uint8) \n",
        "cv2.namedWindow('image') \n",
        "cv2.setMouseCallback('image',draw_circle)\n",
        "\n",
        "while(1): \n",
        "    cv2.imshow('image',img) \n",
        "    if cv2.waitKey(20) & 0xFF == 27: \n",
        "        break \n",
        "cv2.destroyAllWindows()\n"
      ],
      "execution_count": null,
      "outputs": []
    },
    {
      "cell_type": "markdown",
      "metadata": {
        "id": "LKZ94ukw0mk3",
        "colab_type": "text"
      },
      "source": [
        "More Advanced Demo"
      ]
    },
    {
      "cell_type": "code",
      "metadata": {
        "id": "bj5SaR-50mk6",
        "colab_type": "code",
        "colab": {}
      },
      "source": [
        "import cv2 \n",
        "import numpy as np\n",
        "\n",
        "drawing = False # true if mouse is pressed \n",
        "mode = True # if True, draw rectangle. Press 'm' to toggle to curve \n",
        "ix,iy = -1,-1\n",
        "\n",
        "# mouse callback function \n",
        "def draw_circle(event,x,y,flags,param): \n",
        "    global ix,iy,drawing,mode\n",
        "    \n",
        "    if event == cv2.EVENT_LBUTTONDOWN: \n",
        "        drawing = True\n",
        "        ix,iy = x,y\n",
        "    elif event == cv2.EVENT_MOUSEMOVE: \n",
        "        if drawing == True: \n",
        "            if mode == True: \n",
        "                cv2.rectangle(img,(ix,iy),(x,y),(0,255,0),-1) \n",
        "            else: \n",
        "                cv2.circle(img,(x,y),5,(0,0,255),-1)\n",
        "\n",
        "    elif event == cv2.EVENT_LBUTTONUP: \n",
        "        drawing = False \n",
        "        if mode == True: \n",
        "            cv2.rectangle(img,(ix,iy),(x,y),(0,255,0),-1) \n",
        "        else: \n",
        "            cv2.circle(img,(x,y),5,(0,0,255),-1)\n",
        "img = np.zeros((512,512,3), np.uint8) \n",
        "cv2.namedWindow('image') \n",
        "cv2.setMouseCallback('image',draw_circle)\n",
        "while(1): \n",
        "    cv2.imshow('image',img) \n",
        "    k = cv2.waitKey(1) & 0xFF \n",
        "    if k == ord('m'): \n",
        "        mode = not mode \n",
        "    elif k == 27: \n",
        "        break\n",
        "cv2.destroyAllWindows()\n"
      ],
      "execution_count": null,
      "outputs": []
    },
    {
      "cell_type": "markdown",
      "metadata": {
        "id": "9-eupWNb0mk8",
        "colab_type": "text"
      },
      "source": [
        "Trackbar as the Color Palette\n"
      ]
    },
    {
      "cell_type": "code",
      "metadata": {
        "id": "KEj0qpQF0mk9",
        "colab_type": "code",
        "colab": {}
      },
      "source": [
        "import cv2 \n",
        "import numpy as np\n",
        "def nothing(x): \n",
        "    pass\n",
        "\n",
        "# Create a black image, a window \n",
        "img = np.zeros((300,512,3), np.uint8) \n",
        "cv2.namedWindow('image')\n",
        "\n",
        "# create trackbars for color change \n",
        "cv2.createTrackbar('R','image',0,255,nothing) \n",
        "cv2.createTrackbar('G','image',0,255,nothing) \n",
        "cv2.createTrackbar('B','image',0,255,nothing)\n",
        "\n",
        "# create switch for ON/OFF functionality \n",
        "switch = '0 : OFF \\n1 : ON' \n",
        "cv2.createTrackbar(switch, 'image',0,1,nothing)\n",
        "\n",
        "while(1): \n",
        "    cv2.imshow('image',img) \n",
        "    k = cv2.waitKey(1) & 0xFF \n",
        "    if k == 27: \n",
        "        break\n",
        "\n",
        "    # get current positions of four trackbars \n",
        "    r = cv2.getTrackbarPos('R','image') \n",
        "    g = cv2.getTrackbarPos('G','image') \n",
        "    b = cv2.getTrackbarPos('B','image') \n",
        "    s = cv2.getTrackbarPos(switch,'image')\n",
        "\n",
        "    if s == 0:\n",
        "        img[:] = 0 \n",
        "    else: \n",
        "        img[:] = [b,g,r]\n",
        "\n",
        "cv2.destroyAllWindows()"
      ],
      "execution_count": null,
      "outputs": []
    },
    {
      "cell_type": "markdown",
      "metadata": {
        "id": "esmepKCI0mk-",
        "colab_type": "text"
      },
      "source": [
        "Making Borders for Images (Padding)"
      ]
    },
    {
      "cell_type": "code",
      "metadata": {
        "id": "LkftsDnO0mk_",
        "colab_type": "code",
        "colab": {}
      },
      "source": [
        "import cv2 \n",
        "import numpy as np \n",
        "from matplotlib import pyplot as plt\n",
        "%matplotlib inline\n",
        "BLUE = [255,0,0]\n",
        "img1 = cv2.imread('profilepic.jpg')\n",
        "replicate = cv2.copyMakeBorder(img1,10,10,10,10,cv2.BORDER_REPLICATE) \n",
        "reflect = cv2.copyMakeBorder(img1,10,10,10,10,cv2.BORDER_REFLECT) \n",
        "reflect101 = cv2.copyMakeBorder(img1,10,10,10,10,cv2.BORDER_REFLECT_101) \n",
        "wrap = cv2.copyMakeBorder(img1,10,10,10,10,cv2.BORDER_WRAP) \n",
        "constant= cv2.copyMakeBorder(img1,10,10,10,10,cv2.BORDER_CONSTANT,value=BLUE)\n",
        "plt.subplot(231),plt.imshow(img1,'gray'),plt.title('ORIGINAL') \n",
        "plt.subplot(232),plt.imshow(replicate,'gray'),plt.title('REPLICATE') \n",
        "plt.subplot(233),plt.imshow(reflect,'gray'),plt.title('REFLECT') \n",
        "plt.subplot(234),plt.imshow(reflect101,'gray'),plt.title('REFLECT_101') \n",
        "plt.subplot(235),plt.imshow(wrap,'gray'),plt.title('WRAP') \n",
        "plt.subplot(236),plt.imshow(constant,'gray'),plt.title('CONSTANT')\n",
        "plt.show()"
      ],
      "execution_count": null,
      "outputs": []
    },
    {
      "cell_type": "code",
      "metadata": {
        "id": "JO3c4yl70mlB",
        "colab_type": "code",
        "colab": {}
      },
      "source": [
        ""
      ],
      "execution_count": null,
      "outputs": []
    },
    {
      "cell_type": "markdown",
      "metadata": {
        "id": "QL9Vj1UJ0mlC",
        "colab_type": "text"
      },
      "source": [
        "Arithmetic Operations on Images\n"
      ]
    },
    {
      "cell_type": "code",
      "metadata": {
        "id": "f6qLgSgh0mlC",
        "colab_type": "code",
        "colab": {}
      },
      "source": [
        "cv2.add(x,y)"
      ],
      "execution_count": null,
      "outputs": []
    },
    {
      "cell_type": "markdown",
      "metadata": {
        "id": "Ng-mM6cb0mlF",
        "colab_type": "text"
      },
      "source": [
        "Image Blending"
      ]
    },
    {
      "cell_type": "code",
      "metadata": {
        "id": "KvTB33O10mlF",
        "colab_type": "code",
        "colab": {}
      },
      "source": [
        "img1 = cv2.imread('ml.png') \n",
        "img2 = cv2.imread('opencv_logo.jpg')\n",
        "dst = cv2.addWeighted(img1,0.7,img2,0.3,0)\n",
        "cv2.imshow('dst',dst) \n",
        "cv2.waitKey(0) \n",
        "cv2.destroyAllWindows()\n"
      ],
      "execution_count": null,
      "outputs": []
    },
    {
      "cell_type": "markdown",
      "metadata": {
        "id": "HtM5LU_D0mlH",
        "colab_type": "text"
      },
      "source": [
        "Bitwise Operations"
      ]
    },
    {
      "cell_type": "code",
      "metadata": {
        "id": "s0jNnVx40mlH",
        "colab_type": "code",
        "colab": {}
      },
      "source": [
        "# Load two images \n",
        "img1 = cv2.imread('messi5.jpg') \n",
        "img2 = cv2.imread('opencv_logo.png')\n",
        "\n",
        "# I want to put logo on top-left corner, So I create a ROI \n",
        "rows,cols,channels = img2.shape \n",
        "roi = img1[0:rows, 0:cols ]\n",
        "\n",
        "# Now create a mask of logo and create its inverse mask also \n",
        "img2gray = cv2.cvtColor(img2,cv2.COLOR_BGR2GRAY) \n",
        "ret, mask = cv2.threshold(img2gray, 10, 255, cv2.THRESH_BINARY) \n",
        "mask_inv = cv2.bitwise_not(mask)\n",
        "\n",
        "# Now black-out the area of logo in ROI \n",
        "img1_bg = cv2.bitwise_and(roi,roi,mask = mask_inv)\n",
        "\n",
        "# Take only region of logo from logo image. \n",
        "img2_fg = cv2.bitwise_and(img2,img2,mask = mask)\n",
        "\n",
        "# Put logo in ROI and modify the main image \n",
        "dst = cv2.add(img1_bg,img2_fg) \n",
        "img1[0:rows, 0:cols ] = dst\n",
        "\n",
        "cv2.imshow('res',img1) \n",
        "cv2.waitKey(0) \n",
        "cv2.destroyAllWindows()"
      ],
      "execution_count": null,
      "outputs": []
    },
    {
      "cell_type": "code",
      "metadata": {
        "id": "VggoyoH40mlJ",
        "colab_type": "code",
        "colab": {}
      },
      "source": [
        ""
      ],
      "execution_count": null,
      "outputs": []
    },
    {
      "cell_type": "markdown",
      "metadata": {
        "id": "82UXqRJ40mlK",
        "colab_type": "text"
      },
      "source": [
        " Performance Measurement and Improvement Techniques"
      ]
    },
    {
      "cell_type": "markdown",
      "metadata": {
        "id": "tUUerbDQ0mlK",
        "colab_type": "text"
      },
      "source": [
        "Measuring Performance with OpenCV\n"
      ]
    },
    {
      "cell_type": "code",
      "metadata": {
        "id": "kWPzG1Vf0mlL",
        "colab_type": "code",
        "colab": {}
      },
      "source": [
        "e1 = cv2.getTickCount() \n",
        "# your code execution \n",
        "e2 = cv2.getTickCount() \n",
        "time = (e2 - e1)/ cv2.getTickFrequency()"
      ],
      "execution_count": null,
      "outputs": []
    },
    {
      "cell_type": "code",
      "metadata": {
        "id": "cG-LWomc0mlM",
        "colab_type": "code",
        "colab": {}
      },
      "source": [
        "img1 = cv2.imread('messi5.jpg')\n",
        "\n",
        "e1 = cv2.getTickCount() \n",
        "for i in xrange(5,49,2): \n",
        "  img1 = cv2.medianBlur(img1,i) \n",
        "e2 = cv2.getTickCount() \n",
        "t = (e2 - e1)/cv2.getTickFrequency() \n",
        "print t\n",
        "\n",
        "# Result I got is 0.521107655 seconds\n"
      ],
      "execution_count": null,
      "outputs": []
    },
    {
      "cell_type": "markdown",
      "metadata": {
        "id": "H3MjC5hc2kG7",
        "colab_type": "text"
      },
      "source": [
        "Default Optimization in OpenCV\n"
      ]
    },
    {
      "cell_type": "code",
      "metadata": {
        "id": "UEjHOTy10mlO",
        "colab_type": "code",
        "colab": {}
      },
      "source": [
        "# check if optimization is enabled \n",
        "In [5]: cv2.useOptimized() \n",
        "Out[5]: True\n",
        "\n",
        "In [6]: %timeit res = cv2.medianBlur(img,49) \n",
        "10 loops, best of 3: 34.9 ms per loop\n",
        "\n",
        "# Disable it \n",
        "In [7]: cv2.setUseOptimized(False)\n",
        "In [8]: cv2.useOptimized() \n",
        "Out[8]: False\n",
        "\n",
        "In [9]: %timeit res = cv2.medianBlur(img,49) \n",
        "10 loops, best of 3: 64.1 ms per loop\n"
      ],
      "execution_count": null,
      "outputs": []
    },
    {
      "cell_type": "markdown",
      "metadata": {
        "id": "Hy37gPSF3QTe",
        "colab_type": "text"
      },
      "source": [
        "Image Processing in OpenCV"
      ]
    },
    {
      "cell_type": "markdown",
      "metadata": {
        "id": "P0kB50JlwiFl",
        "colab_type": "text"
      },
      "source": [
        "Changing Colorspaces\n"
      ]
    },
    {
      "cell_type": "code",
      "metadata": {
        "id": "emmmqLwbsbDX",
        "colab_type": "code",
        "colab": {}
      },
      "source": [
        "flags = [i for i in dir(cv2) if i.startswith('COLOR_')]\n",
        "print (flags)"
      ],
      "execution_count": null,
      "outputs": []
    },
    {
      "cell_type": "markdown",
      "metadata": {
        "id": "3Kx0Pvj4yQAO",
        "colab_type": "text"
      },
      "source": [
        "Object Tracking"
      ]
    },
    {
      "cell_type": "code",
      "metadata": {
        "id": "RyKEIfKS0mlQ",
        "colab_type": "code",
        "colab": {}
      },
      "source": [
        "import cv2 \n",
        "import numpy as np\n",
        "\n",
        "cap = cv2.VideoCapture(0)\n",
        "\n",
        "while(1):\n",
        "\n",
        "  # Take each \n",
        "  frame _, frame = cap.read()\n",
        "  # Convert BGR to HSV\n",
        "  hsv = cv2.cvtColor(frame, cv2.COLOR_BGR2HSV)\n",
        "  \n",
        "  # define range of blue color in HSV \n",
        "  lower_blue = np.array([110,50,50]) \n",
        "  upper_blue = np.array([130,255,255])\n",
        "\n",
        "  # Threshold the HSV image to get only blue colors \n",
        "  mask = cv2.inRange(hsv, lower_blue, upper_blue)\n",
        "\n",
        "  # Bitwise-AND mask and original image \n",
        "  res = cv2.bitwise_and(frame,frame, mask= mask)\n",
        "\n",
        "  cv2.imshow('frame',frame) \n",
        "  cv2.imshow('mask',mask) \n",
        "  cv2.imshow('res',res) \n",
        "  k = cv2.waitKey(5) & 0xFF \n",
        "  if k == 27: \n",
        "    break\n",
        "\n",
        "cv2.destroyAllWindows()\n"
      ],
      "execution_count": null,
      "outputs": []
    },
    {
      "cell_type": "markdown",
      "metadata": {
        "id": "RPtrbvO60cwI",
        "colab_type": "text"
      },
      "source": [
        "How to ﬁnd HSV values to track?\n"
      ]
    },
    {
      "cell_type": "code",
      "metadata": {
        "id": "TXEyddXN0mlR",
        "colab_type": "code",
        "colab": {}
      },
      "source": [
        "green = np.uint8([[[0,255,0 ]]]) \n",
        "hsv_green = cv2.cvtColor(green,cv2.COLOR_BGR2HSV) \n",
        "print (hsv_green)"
      ],
      "execution_count": null,
      "outputs": []
    },
    {
      "cell_type": "markdown",
      "metadata": {
        "id": "TEiZFvid07ie",
        "colab_type": "text"
      },
      "source": [
        " Image Thresholding\n"
      ]
    },
    {
      "cell_type": "markdown",
      "metadata": {
        "id": "MnlycE4o1L-S",
        "colab_type": "text"
      },
      "source": [
        "Simple Thresholding\n"
      ]
    },
    {
      "cell_type": "markdown",
      "metadata": {
        "id": "2gAkALbB1VcE",
        "colab_type": "text"
      },
      "source": [
        "\n",
        "\n",
        "*   cv2.THRESH_TOZERO_INV\n",
        "\n",
        "*    cv2.THRESH_BINARY\n",
        "\n",
        "*   cv2.THRESH_BINARY_INV\n",
        "*   cv2.THRESH_TRUNC\n",
        "\n",
        "\n",
        "*   cv2.THRESH_TOZERO\n",
        "\n"
      ]
    },
    {
      "cell_type": "code",
      "metadata": {
        "id": "ieHwniga0mlT",
        "colab_type": "code",
        "colab": {}
      },
      "source": [
        "import cv2 \n",
        "import numpy as np \n",
        "from matplotlib import pyplot as plt\n",
        "\n",
        "img = cv2.imread('gradient.png',0) \n",
        "ret,thresh1 = cv2.threshold(img,127,255,cv2.THRESH_BINARY) \n",
        "ret,thresh2 = cv2.threshold(img,127,255,cv2.THRESH_BINARY_INV)\n",
        "ret,thresh3 = cv2.threshold(img,127,255,cv2.THRESH_TRUNC) \n",
        "ret,thresh4 = cv2.threshold(img,127,255,cv2.THRESH_TOZERO) \n",
        "ret,thresh5 = cv2.threshold(img,127,255,cv2.THRESH_TOZERO_INV)\n",
        "\n",
        "titles = ['Original Image','BINARY','BINARY_INV','TRUNC','TOZERO','TOZERO_INV'] \n",
        "images = [img, thresh1, thresh2, thresh3, thresh4, thresh5]\n",
        "\n",
        "for i in xrange(6): \n",
        "  plt.subplot(2,3,i+1),plt.imshow(images[i],'gray') \n",
        "  plt.title(titles[i]) \n",
        "  plt.xticks([]),plt.yticks([])\n",
        "\n",
        "plt.show()"
      ],
      "execution_count": null,
      "outputs": []
    },
    {
      "cell_type": "markdown",
      "metadata": {
        "id": "j7j-3Ba-2www",
        "colab_type": "text"
      },
      "source": [
        "Adaptive Thresholding\n"
      ]
    },
    {
      "cell_type": "code",
      "metadata": {
        "id": "IXbfqlbI2yUE",
        "colab_type": "code",
        "colab": {}
      },
      "source": [
        "import cv2 \n",
        "import numpy as np \n",
        "from matplotlib import pyplot as plt\n",
        "\n",
        "img = cv2.imread('dave.jpg',0) \n",
        "img = cv2.medianBlur(img,5)\n",
        "\n",
        "ret,th1 = cv2.threshold(img,127,255,cv2.THRESH_BINARY) \n",
        "th2 = cv2.adaptiveThreshold(img,255,cv2.ADAPTIVE_THRESH_MEAN_C,\n",
        "                            cv2.THRESH_BINARY,11,2) \n",
        "th3 = cv2.adaptiveThreshold(img,255,cv2.ADAPTIVE_THRESH_GAUSSIAN_C,\n",
        "                            cv2.THRESH_BINARY,11,2)\n",
        "\n",
        "titles = ['Original Image', 'Global Thresholding (v = 127)', \n",
        "          'Adaptive Mean Thresholding', 'Adaptive Gaussian Thresholding'] \n",
        "images = [img, th1, th2, th3]\n",
        "\n",
        "for i in xrange(4): \n",
        "  plt.subplot(2,2,i+1),plt.imshow(images[i],'gray') \n",
        "  plt.title(titles[i]) \n",
        "  plt.xticks([]),plt.yticks([]) \n",
        "  \n",
        "plt.show()\n"
      ],
      "execution_count": null,
      "outputs": []
    },
    {
      "cell_type": "markdown",
      "metadata": {
        "id": "0JBx7gJ85I3A",
        "colab_type": "text"
      },
      "source": [
        "Otsu's Binarization"
      ]
    },
    {
      "cell_type": "code",
      "metadata": {
        "id": "ENV0Q03A5aeG",
        "colab_type": "code",
        "colab": {}
      },
      "source": [
        "import cv2 \n",
        "import numpy as np \n",
        "from matplotlib import pyplot as plt\n",
        "img = cv2.imread('noisy2.png',0)\n",
        "\n",
        "# global thresholding \n",
        "ret1,th1 = cv2.threshold(img,127,255,cv2.THRESH_BINARY)\n",
        "\n",
        "# Otsu's thresholding \n",
        "ret2,th2 = cv2.threshold(img,0,255,cv2.THRESH_BINARY+cv2.THRESH_OTSU)\n",
        "\n",
        "# Otsu's thresholding after Gaussian filtering \n",
        "blur = cv2.GaussianBlur(img,(5,5),0) \n",
        "ret3,th3 = cv2.threshold(blur,0,255,cv2.THRESH_BINARY+cv2.THRESH_OTSU)\n",
        "\n",
        "# plot all the images and their histograms \n",
        "images = [img, 0, th1, img, 0, th2, blur, 0, th3] \n",
        "\n",
        "titles = ['Original Noisy Image','Histogram','Global Thresholding (v=127)', \n",
        "          'Original Noisy Image','Histogram',\"Otsu's Thresholding\", \n",
        "          'Gaussian filtered Image','Histogram',\"Otsu's Thresholding\"]\n",
        "for i in xrange(3): \n",
        "  plt.subplot(3,3,i*3+1),plt.imshow(images[i*3],'gray') \n",
        "  plt.title(titles[i*3]), plt.xticks([]), plt.yticks([]) \n",
        "  plt.subplot(3,3,i*3+2),plt.hist(images[i*3].ravel(),256) \n",
        "  plt.title(titles[i*3+1]), plt.xticks([]), plt.yticks([]) \n",
        "  plt.subplot(3,3,i*3+3),plt.imshow(images[i*3+2],'gray') \n",
        "  plt.title(titles[i*3+2]), plt.xticks([]), plt.yticks([]) \n",
        "  \n",
        "plt.show()\n"
      ],
      "execution_count": null,
      "outputs": []
    },
    {
      "cell_type": "code",
      "metadata": {
        "id": "r-biNChh6cPa",
        "colab_type": "code",
        "colab": {}
      },
      "source": [
        ""
      ],
      "execution_count": null,
      "outputs": []
    },
    {
      "cell_type": "code",
      "metadata": {
        "id": "QTX9XOt76b6o",
        "colab_type": "code",
        "colab": {}
      },
      "source": [
        "img = cv2.imread('noisy2.png',0) \n",
        "blur = cv2.GaussianBlur(img,(5,5),0)\n",
        "\n",
        "# find normalized_histogram, and its cumulative distribution function\n",
        "hist = cv2.calcHist([blur],[0],None,[256],[0,256]) \n",
        "hist_norm = hist.ravel()/hist.max() \n",
        "Q = hist_norm.cumsum()\n",
        "\n",
        "bins = np.arange(256)\n",
        "\n",
        "fn_min = np.inf \n",
        "thresh = -1\n",
        "\n",
        "for i in xrange(1,256): \n",
        "  p1,p2 = np.hsplit(hist_norm,[i]) # probabilities \n",
        "  q1,q2 = Q[i],Q[255]-Q[i] # cum sum of classes \n",
        "  b1,b2 = np.hsplit(bins,[i]) # weights\n",
        "\n",
        "  # finding means and variances \n",
        "  m1,m2 = np.sum(p1*b1)/q1, np.sum(p2*b2)/q2 \n",
        "  v1,v2 = np.sum(((b1-m1)**2)*p1)/q1,np.sum(((b2-m2)**2)*p2)/q2\n",
        "\n",
        "  # calculates the minimization function \n",
        "  fn = v1*q1 + v2*q2 \n",
        "  if fn < fn_min: \n",
        "    fn_min = fn \n",
        "    thresh = i\n",
        "\n",
        "# find otsu's threshold value with OpenCV function \n",
        "ret, otsu = cv2.threshold(blur,0,255,cv2.THRESH_BINARY+cv2.THRESH_OTSU) \n",
        "print thresh,ret\n"
      ],
      "execution_count": null,
      "outputs": []
    },
    {
      "cell_type": "markdown",
      "metadata": {
        "id": "u2zfyf_C7IZX",
        "colab_type": "text"
      },
      "source": [
        "Geometric Transformations of Images"
      ]
    },
    {
      "cell_type": "markdown",
      "metadata": {
        "id": "MXlEBSBmIrSX",
        "colab_type": "text"
      },
      "source": [
        "Scaling"
      ]
    },
    {
      "cell_type": "code",
      "metadata": {
        "id": "Y1S0vx1j7NMO",
        "colab_type": "code",
        "colab": {}
      },
      "source": [
        "import cv2 \n",
        "import numpy as np\n",
        "\n",
        "img = cv2.imread('messi5.jpg')\n",
        "\n",
        "res = cv2.resize(img,None,fx=2, fy=2, interpolation = cv2.INTER_CUBIC)\n",
        "#OR\n",
        "height, width = img.shape[:2] \n",
        "res = cv2.resize(img,(2*width, 2*height), interpolation = cv2.INTER_CUBIC)\n"
      ],
      "execution_count": null,
      "outputs": []
    },
    {
      "cell_type": "markdown",
      "metadata": {
        "id": "BKnEAiCpI80m",
        "colab_type": "text"
      },
      "source": [
        "Translation"
      ]
    },
    {
      "cell_type": "code",
      "metadata": {
        "id": "S0kyUVRkJB3R",
        "colab_type": "code",
        "colab": {}
      },
      "source": [
        "import cv2 \n",
        "import numpy as np\n",
        "\n",
        "img = cv2.imread('messi5.jpg',0) \n",
        "rows,cols = img.shape\n",
        "\n",
        "M = np.float32([[1,0,100],[0,1,50]]) \n",
        "dst = cv2.warpAffine(img,M,(cols,rows))\n",
        "\n",
        "cv2.imshow('img',dst) \n",
        "cv2.waitKey(0) \n",
        "cv2.destroyAllWindows()\n"
      ],
      "execution_count": null,
      "outputs": []
    },
    {
      "cell_type": "markdown",
      "metadata": {
        "id": "YH_mYMVtJPJk",
        "colab_type": "text"
      },
      "source": [
        "Rotation"
      ]
    },
    {
      "cell_type": "code",
      "metadata": {
        "id": "GSdRY_sMJQKm",
        "colab_type": "code",
        "colab": {}
      },
      "source": [
        "img = cv2.imread('messi5.jpg',0)\n",
        "rows,cols = img.shape\n",
        "\n",
        "M = cv2.getRotationMatrix2D((cols/2,rows/2),90,1) \n",
        "dst = cv2.warpAffine(img,M,(cols,rows))"
      ],
      "execution_count": null,
      "outputs": []
    },
    {
      "cell_type": "markdown",
      "metadata": {
        "id": "vX13FjugJcr2",
        "colab_type": "text"
      },
      "source": [
        "Afﬁne Transformation"
      ]
    },
    {
      "cell_type": "code",
      "metadata": {
        "id": "r7RretPUJdrv",
        "colab_type": "code",
        "colab": {}
      },
      "source": [
        "img = cv2.imread('drawing.png') \n",
        "rows,cols,ch = img.shape\n",
        "\n",
        "pts1 = np.float32([[50,50],[200,50],[50,200]]) \n",
        "pts2 = np.float32([[10,100],[200,50],[100,250]])\n",
        "\n",
        "M = cv2.getAffineTransform(pts1,pts2)\n",
        "\n",
        "dst = cv2.warpAffine(img,M,(cols,rows))\n",
        "\n",
        "plt.subplot(121),plt.imshow(img),plt.title('Input') \n",
        "plt.subplot(122),plt.imshow(dst),plt.title('Output') \n",
        "plt.show()"
      ],
      "execution_count": null,
      "outputs": []
    },
    {
      "cell_type": "markdown",
      "metadata": {
        "id": "5MBGGkB8Jo1r",
        "colab_type": "text"
      },
      "source": [
        "Perspective Transformation"
      ]
    },
    {
      "cell_type": "code",
      "metadata": {
        "id": "AngYlL7dJqzK",
        "colab_type": "code",
        "colab": {}
      },
      "source": [
        "img = cv2.imread('sudokusmall.png') \n",
        "rows,cols,ch = img.shape\n",
        "\n",
        "pts1 = np.float32([[56,65],[368,52],[28,387],[389,390]])\n",
        "pts2 = np.float32([[0,0],[300,0],[0,300],[300,300]])\n",
        "\n",
        "M = cv2.getPerspectiveTransform(pts1,pts2)\n",
        "\n",
        "dst = cv2.warpPerspective(img,M,(300,300))\n",
        "\n",
        "plt.subplot(121),plt.imshow(img),plt.title('Input') \n",
        "plt.subplot(122),plt.imshow(dst),plt.title('Output') \n",
        "plt.show()"
      ],
      "execution_count": null,
      "outputs": []
    },
    {
      "cell_type": "markdown",
      "metadata": {
        "id": "e-ff9Mr4KH7k",
        "colab_type": "text"
      },
      "source": [
        "Smoothing Images"
      ]
    },
    {
      "cell_type": "markdown",
      "metadata": {
        "id": "VOucQF-CKRRH",
        "colab_type": "text"
      },
      "source": [
        "2D Convolution ( Image Filtering )"
      ]
    },
    {
      "cell_type": "code",
      "metadata": {
        "id": "R41iirndKNQP",
        "colab_type": "code",
        "colab": {}
      },
      "source": [
        "import cv2 \n",
        "import numpy as np \n",
        "from matplotlib import pyplot as plt\n",
        "\n",
        "img = cv2.imread('opencv_logo.png')\n",
        "\n",
        "kernel = np.ones((5,5),np.float32)/25 \n",
        "dst = cv2.filter2D(img,-1,kernel)\n",
        "\n",
        "plt.subplot(121),plt.imshow(img),plt.title('Original') \n",
        "plt.xticks([]), plt.yticks([]) \n",
        "plt.subplot(122),plt.imshow(dst),plt.title('Averaging') \n",
        "plt.xticks([]), plt.yticks([]) \n",
        "plt.show()"
      ],
      "execution_count": null,
      "outputs": []
    },
    {
      "cell_type": "markdown",
      "metadata": {
        "id": "31o1MVfiKtTy",
        "colab_type": "text"
      },
      "source": [
        "Image Blurring (Image Smoothing)\n"
      ]
    },
    {
      "cell_type": "markdown",
      "metadata": {
        "id": "a_bLIsJoKw-K",
        "colab_type": "text"
      },
      "source": [
        "1. Averaging\n"
      ]
    },
    {
      "cell_type": "code",
      "metadata": {
        "id": "vFC1ideqKzyC",
        "colab_type": "code",
        "colab": {}
      },
      "source": [
        "import cv2 \n",
        "import numpy as np \n",
        "from matplotlib import pyplot as plt\n",
        "\n",
        "img = cv2.imread('opencv_logo.png')\n",
        "\n",
        "blur = cv2.blur(img,(5,5))\n",
        "\n",
        "plt.subplot(121),plt.imshow(img),plt.title('Original') \n",
        "plt.xticks([]), plt.yticks([]) \n",
        "plt.subplot(122),plt.imshow(blur),plt.title('Blurred') \n",
        "plt.xticks([]), plt.yticks([]) \n",
        "plt.show()\n"
      ],
      "execution_count": null,
      "outputs": []
    },
    {
      "cell_type": "markdown",
      "metadata": {
        "id": "A2Yy62m2LB1p",
        "colab_type": "text"
      },
      "source": [
        "2. Gaussian Filtering"
      ]
    },
    {
      "cell_type": "code",
      "metadata": {
        "id": "3zN2-CnILCse",
        "colab_type": "code",
        "colab": {}
      },
      "source": [
        "blur = cv2.GaussianBlur(img,(5,5),0)"
      ],
      "execution_count": null,
      "outputs": []
    },
    {
      "cell_type": "markdown",
      "metadata": {
        "id": "ttws48CMLIo7",
        "colab_type": "text"
      },
      "source": [
        "3. Median Filtering"
      ]
    },
    {
      "cell_type": "code",
      "metadata": {
        "id": "4qZNX1MaLLXC",
        "colab_type": "code",
        "colab": {}
      },
      "source": [
        "median = cv2.medianBlur(img,5)"
      ],
      "execution_count": null,
      "outputs": []
    },
    {
      "cell_type": "markdown",
      "metadata": {
        "id": "hPneRQq7LTdj",
        "colab_type": "text"
      },
      "source": [
        "4. Bilateral Filtering"
      ]
    },
    {
      "cell_type": "code",
      "metadata": {
        "id": "RRgTeiJPLYn2",
        "colab_type": "code",
        "colab": {}
      },
      "source": [
        "blur = cv2.bilateralFilter(img,9,75,75)\n"
      ],
      "execution_count": null,
      "outputs": []
    }
  ]
}